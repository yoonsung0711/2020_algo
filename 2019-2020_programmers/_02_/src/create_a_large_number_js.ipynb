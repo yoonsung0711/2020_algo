{
 "cells": [
  {
   "cell_type": "code",
   "execution_count": 106,
   "metadata": {},
   "outputs": [],
   "source": [
    "// 테스트 케이스\n",
    "var _num = [\"1924\", \"1231234\", \"4177252841\"]\n",
    "var _k = [2, 3, 4];\n",
    "var _ret = [\"94\", \"3234\", \"775841\"];\n",
    "// \n",
    "var num = _num[1];\n",
    "var k = _k[1];"
   ]
  },
  {
   "cell_type": "code",
   "execution_count": 107,
   "metadata": {},
   "outputs": [],
   "source": [
    "var split = [...num].map(s => parseInt(s)), selected = [];"
   ]
  },
  {
   "cell_type": "code",
   "execution_count": 108,
   "metadata": {},
   "outputs": [],
   "source": [
    "var digit = split.length - k;"
   ]
  },
  {
   "cell_type": "code",
   "execution_count": 109,
   "metadata": {},
   "outputs": [],
   "source": [
    "var cursor = 0, begin = 0, end = begin + (k + 1);"
   ]
  },
  {
   "cell_type": "code",
   "execution_count": 110,
   "metadata": {},
   "outputs": [],
   "source": [
    "var prev = -1, curr = -1, max = -1;"
   ]
  },
  {
   "cell_type": "code",
   "execution_count": 111,
   "metadata": {},
   "outputs": [
    {
     "data": {
      "text/plain": [
       "'interval: [0, 4]'"
      ]
     },
     "execution_count": 111,
     "metadata": {},
     "output_type": "execute_result"
    }
   ],
   "source": [
    "`interval: [${begin}, ${end}]`"
   ]
  },
  {
   "cell_type": "code",
   "execution_count": 112,
   "metadata": {},
   "outputs": [
    {
     "data": {
      "text/plain": [
       "'1231'"
      ]
     },
     "execution_count": 112,
     "metadata": {},
     "output_type": "execute_result"
    }
   ],
   "source": [
    "var s = \"\";\n",
    "for (let i = begin; i < end; i++){\n",
    "     s += split[i];\n",
    "}"
   ]
  },
  {
   "cell_type": "code",
   "execution_count": 115,
   "metadata": {},
   "outputs": [
    {
     "name": "stdout",
     "output_type": "stream",
     "text": [
      "*init: curr = 1\n",
      "**curr(2) > 2\n",
      "**curr(3) > 3\n",
      "curr(1) <= 3\n",
      "*init: curr = 1\n",
      "**curr(2) > 2\n",
      "*init: curr = 3\n",
      "*init: curr = 4\n"
     ]
    },
    {
     "data": {
      "text/plain": [
       "8"
      ]
     },
     "execution_count": 115,
     "metadata": {},
     "output_type": "execute_result"
    }
   ],
   "source": [
    "while (selected.length < digit) {\n",
    "    for (let j = begin; j < end; j++) {\n",
    "        curr = split[j];\n",
    "        if (prev == -1) {\n",
    "            max = prev = curr;\n",
    "            cursor = j;\n",
    "            console.log(`*init: curr = ${curr}`);  \n",
    "        } else {\n",
    "            if (curr > max) {\n",
    "                max = curr;\n",
    "                cursor = j;\n",
    "                console.log(`**curr(${curr}) > ${max}`);            \n",
    "            } \n",
    "            else if (curr <= max) {\n",
    "                console.log(`curr(${curr}) <= ${max}`);\n",
    "            }\n",
    "        }\n",
    "    }\n",
    "    selected.push(split[cursor]);\n",
    "    prev = curr = max = -1;\n",
    "    k = k + begin - cursor;\n",
    "    begin = cursor + 1;\n",
    "    end = begin + (k + 1);\n",
    "}"
   ]
  },
  {
   "cell_type": "code",
   "execution_count": 116,
   "metadata": {},
   "outputs": [
    {
     "data": {
      "text/plain": [
       "-1"
      ]
     },
     "execution_count": 116,
     "metadata": {},
     "output_type": "execute_result"
    }
   ],
   "source": [
    "curr"
   ]
  },
  {
   "cell_type": "code",
   "execution_count": 117,
   "metadata": {},
   "outputs": [
    {
     "data": {
      "text/plain": [
       "[ 3, 2, 3, 4 ]"
      ]
     },
     "execution_count": 117,
     "metadata": {},
     "output_type": "execute_result"
    }
   ],
   "source": [
    "selected"
   ]
  },
  {
   "cell_type": "code",
   "execution_count": 118,
   "metadata": {},
   "outputs": [
    {
     "data": {
      "text/plain": [
       "'return \"3234\"'"
      ]
     },
     "execution_count": 118,
     "metadata": {},
     "output_type": "execute_result"
    }
   ],
   "source": [
    "`return \"${selected.reduce((acc, curr)=>acc*10 + curr).toString()}\"`;"
   ]
  },
  {
   "cell_type": "code",
   "execution_count": 119,
   "metadata": {},
   "outputs": [],
   "source": [
    "// for (var j = begin; j < end; j++) {\n",
    "//     curr = split[j];\n",
    "//     if (prev == -1) {\n",
    "//         max = prev = curr;\n",
    "//         cursor = j;\n",
    "//         console.log(`*init: curr = ${curr}`);  \n",
    "//     } else {\n",
    "//         if (curr > max) {\n",
    "//             max = curr;\n",
    "//             cursor = j;\n",
    "//             console.log(`**curr(${curr}) > ${max}`);            \n",
    "//         } else if (curr <= max) {\n",
    "//             console.log(`curr(${curr}) <= ${max}`);\n",
    "//         }\n",
    "//     }\n",
    "// }\n",
    "// selected.push(split[cursor]);\n",
    "// prev = curr = max = -1;\n",
    "// k = k + begin - cursor;\n",
    "// begin = cursor + 1;\n",
    "// end = begin + (k + 1);"
   ]
  },
  {
   "cell_type": "code",
   "execution_count": 345,
   "metadata": {},
   "outputs": [],
   "source": [
    "/*\n",
    "\n",
    "[4, 1, 7, 7, 1, 5, 1, 8, 4, 1] => \n",
    "    max = -1, prev = null, curr = 0, (cursor, digit, k) = (0, 6, 4)\n",
    "    (round 1) \n",
    "        [|||4, 1, *7, 7, 2 |||, 5, 2, 8, 4, 1]\n",
    "            (1-1) max = prev = curr = 4\n",
    "            (1-2) curr = 1 <= max = 4\n",
    "            #(1-3) curr = 7 > max = 4\n",
    "            (1-4) curr = 7 <= max = 7\n",
    "            (1-5) curr = 2 <= max = 7\n",
    "        max = -1, prev = null, curr = null\n",
    "        [7], digit = 6, cursor = 2, k => 4 - cursor = 2\n",
    "        \n",
    "    (round 2) \n",
    "        [4, 1, 7,||| *7, 2, 5 |||, 2, 8, 4, 1]\n",
    "            #(2-1) max = prev = curr = 7\n",
    "            (2-2) curr = 2 <= max = 7\n",
    "            (2-3) curr = 5 <= max = 7\n",
    "        max = -1, prev = null, curr = null\n",
    "        [7, 7], digit = 6, cursor = 0, k => 2 - cursor = 2 \n",
    "            \n",
    "    (round 3) \n",
    "        [4, 1, 7, 7,||| 2, *5, 2 |||, 8, 4, 1]\n",
    "            (3-1) max = prev = curr = 2\n",
    "            #(3-2) curr = 5 > max = 2\n",
    "            (3-3) curr = 2 <= max = 5\n",
    "        max = -1, prev = null, curr = null\n",
    "        [7, 7, 5], digit = 6, cursor = 1, k => 2 - cursor = 1\n",
    "\n",
    "    (round 4) \n",
    "        [4, 1, 7, 7, 2, 5,||| 2, *8 |||, 4, 1]\n",
    "            (4-1) curr = 2 > max = -1\n",
    "            #(4-2) curr = 8 > max = 2\n",
    "        max = -1, prev = null, curr = null\n",
    "        [7, 7, 5, 8], digit = 6, cursor = 1, k => 2 - cursor = 0\n",
    "\n",
    "    (round 5) \n",
    "        [4, 1, 7, 7, 2, 5, 2, 8,||| 4, 1 |||]\n",
    "            (5-1) curr = 4\n",
    "            (5-2) curr = 1\n",
    "        max = -1, prev = null, curr = null\n",
    "        [7, 7, 5, 8, 4, 1], digit = 6, cursor = N/A, k = 0\n",
    "\n",
    "*/"
   ]
  }
 ],
 "metadata": {
  "kernelspec": {
   "display_name": "Javascript (Node.js)",
   "language": "javascript",
   "name": "javascript"
  },
  "language_info": {
   "file_extension": ".js",
   "mimetype": "application/javascript",
   "name": "javascript",
   "version": "10.16.3"
  }
 },
 "nbformat": 4,
 "nbformat_minor": 2
}
