{
 "cells": [
  {
   "cell_type": "code",
   "execution_count": 5,
   "metadata": {},
   "outputs": [],
   "source": [
    "var wordsets = [[\"tank\", \"kick\", \"know\", \"wheel\", \"land\", \"dream\", \"mother\", \"robot\", \"tank\"],\n",
    "         [\"hello\", \"observe\", \"effect\", \"take\", \"either\", \"recognize\", \"encourage\", \"ensure\", \"establish\", \"hang\", \"gather\", \"refer\", \"reference\", \"estimate\", \"executive\"],\n",
    "         [\"hello\", \"one\", \"even\", \"never\", \"now\", \"world\", \"draw\"]];"
   ]
  },
  {
   "cell_type": "code",
   "execution_count": 6,
   "metadata": {},
   "outputs": [],
   "source": [
    "var nums = [3, 5, 2];"
   ]
  },
  {
   "cell_type": "code",
   "execution_count": 7,
   "metadata": {},
   "outputs": [
    {
     "data": {
      "text/plain": [
       "[ 'tank' ]"
      ]
     },
     "execution_count": 7,
     "metadata": {},
     "output_type": "execute_result"
    }
   ],
   "source": [
    "wordsets[0].slice(0,1)"
   ]
  },
  {
   "cell_type": "code",
   "execution_count": 8,
   "metadata": {},
   "outputs": [],
   "source": [
    "var solution = function(n, words) {\n",
    "    const go = function(n, words){\n",
    "        var l = Array.from(Array(n), () => new Array());\n",
    "        var prev = \"\";\n",
    "        for (const [idx, word] of words.entries()) {\n",
    "            var i = idx % n;\n",
    "            l[i].push(word);\n",
    "            if (idx == 0) {\n",
    "                prev = word;\n",
    "                continue;\n",
    "            }\n",
    "            if (false == (words.slice(0, idx).includes(word))) {\n",
    "                return [i + 1, l[i].length];\n",
    "            }\n",
    "            if (word[0] != prev[prev.length - 1]) {\n",
    "                return [i + 1, l[i].length];\n",
    "            }\n",
    "            prev = word;\n",
    "        }\n",
    "    }\n",
    "    const answer = go(n, words);\n",
    "    return answer ? answer : [0, 0];\n",
    "};"
   ]
  },
  {
   "cell_type": "code",
   "execution_count": null,
   "metadata": {},
   "outputs": [],
   "source": [
    "solution(nums[2], wordsets[2]);"
   ]
  }
 ],
 "metadata": {
  "kernelspec": {
   "display_name": "Javascript (Node.js)",
   "language": "javascript",
   "name": "javascript"
  },
  "language_info": {
   "file_extension": ".js",
   "mimetype": "application/javascript",
   "name": "javascript",
   "version": "10.16.3"
  }
 },
 "nbformat": 4,
 "nbformat_minor": 4
}
